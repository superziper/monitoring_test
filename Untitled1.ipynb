{
 "cells": [
  {
   "cell_type": "code",
   "execution_count": 98,
   "id": "c1a7b8c1",
   "metadata": {},
   "outputs": [],
   "source": [
    "import os"
   ]
  },
  {
   "cell_type": "code",
   "execution_count": 99,
   "id": "2234d604",
   "metadata": {},
   "outputs": [],
   "source": [
    "list1 = os.listdir('D:/data base')"
   ]
  },
  {
   "cell_type": "code",
   "execution_count": 100,
   "id": "e112b43b",
   "metadata": {},
   "outputs": [
    {
     "data": {
      "text/plain": [
       "['.ipynb_checkpoints',\n",
       " '20220716.SALDO_LIST_MIKRO_RKA.zip',\n",
       " '20220721.SALDO_LIST_MIKRO_RKA.csv',\n",
       " '20220721.SALDO_LIST_MIKRO_RKA.zip',\n",
       " '20220722.SALDO_LIST_MIKRO_RKA.csv',\n",
       " '20220722.SALDO_LIST_MIKRO_RKA.zip',\n",
       " '20220723.SALDO_LIST_MIKRO_RKA.zip',\n",
       " 'CABANG.xlsx',\n",
       " 'MENINGGAL DAN SUSAH DITAGIH.xlsx',\n",
       " 'mikro',\n",
       " 'POTENSI TOPP.xlsx',\n",
       " 'TAGIHAN BPO COLECTION.xlsx',\n",
       " 'TAGIHAN UBM.xlsx',\n",
       " 'Untitled1.ipynb']"
      ]
     },
     "execution_count": 100,
     "metadata": {},
     "output_type": "execute_result"
    }
   ],
   "source": [
    "list1"
   ]
  },
  {
   "cell_type": "code",
   "execution_count": 101,
   "id": "f41670dc",
   "metadata": {},
   "outputs": [],
   "source": [
    "list2=[]"
   ]
  },
  {
   "cell_type": "code",
   "execution_count": 102,
   "id": "dc19dc5d",
   "metadata": {},
   "outputs": [],
   "source": [
    "for i in list1:\n",
    "    if '.zip' in i:\n",
    "        list2.append('RKAMIKRO'+i[6:8]+i[4:6]+i[2:4]+'!')"
   ]
  },
  {
   "cell_type": "code",
   "execution_count": 103,
   "id": "c1c45e24",
   "metadata": {},
   "outputs": [
    {
     "name": "stdout",
     "output_type": "stream",
     "text": [
      "b'RKAMIKRO230722!'\n"
     ]
    }
   ],
   "source": [
    "password = list2[-1]\n",
    "password = bytes(password, 'utf-8')\n",
    "print(password)"
   ]
  },
  {
   "cell_type": "code",
   "execution_count": 104,
   "id": "46b7cb15",
   "metadata": {},
   "outputs": [
    {
     "data": {
      "text/plain": [
       "'20220723.SALDO_LIST_MIKRO_RKA.zip'"
      ]
     },
     "execution_count": 104,
     "metadata": {},
     "output_type": "execute_result"
    }
   ],
   "source": [
    "data_terakhir = [i for i in list1 if '.zip' in i][-1]\n",
    "data_terakhir"
   ]
  },
  {
   "cell_type": "code",
   "execution_count": 105,
   "id": "fe5fbf89",
   "metadata": {},
   "outputs": [],
   "source": [
    "from zipfile import ZipFile\n",
    "\n",
    "with ZipFile('D:/data base/'+data_terakhir) as zf:\n",
    "    zf.extractall(path='D:/data base',pwd=password)"
   ]
  },
  {
   "cell_type": "code",
   "execution_count": 106,
   "id": "7ba62e5a",
   "metadata": {},
   "outputs": [],
   "source": [
    "import pandas as pd"
   ]
  },
  {
   "cell_type": "code",
   "execution_count": 107,
   "id": "98bd2903",
   "metadata": {},
   "outputs": [],
   "source": [
    "df = pd.read_csv(data_terakhir[:-3]+'csv', delimiter=\"|\", low_memory=False)"
   ]
  },
  {
   "cell_type": "code",
   "execution_count": 108,
   "id": "2b943369",
   "metadata": {},
   "outputs": [],
   "source": [
    "df_surabaya = df[df.KANWIL == 'KANWIL SURABAYA']"
   ]
  },
  {
   "cell_type": "code",
   "execution_count": null,
   "id": "f8ccf67e",
   "metadata": {},
   "outputs": [],
   "source": []
  },
  {
   "cell_type": "code",
   "execution_count": 109,
   "id": "68f034ce",
   "metadata": {},
   "outputs": [],
   "source": [
    "list_gadai = ['1601:ARRUM EMAS BARU', '1701:ARRUM HAJI', '2501:ARRUM HAJI TABUNGAN EMAS', '1901:ARRUM SAFAR', '1901:ARRUM SAFAR', '2901:EMASKU', '3801:EMASKU ULTIMATE KONVEN', '2801:EMASKU ULTIMATE SYARIAH', '3001:PINJAMAN MODAL KERJA', '3703:MULIA ULTIMATE KONVEN KOLEKTIF', '4301:GADAI TITIPAN EMAS', '0401:KRASIDA', '3501:KRASIDA TABUNGAN EMAS', '4001:KRESNA KHUSUS', '4401:MITRA GADAI', '3904:MULIA ARISAN', '3901:MULIA BARU', '0901:MULIA LAMA', '3701:MULIA ULTIMATE KONVEN', '3704:MULIA ULTIMATE KONVEN ARISAN', '3703:MULIA ULTIMATE KONVEN KOLEKTIF', '3702:MULIA ULTIMATE KONVEN PEGAWAI', '2701:MULIA ULTIMATE SYARIAH', '2704:MULIA ULTIMATE SYARIAH ARISAN', '2702:MULIA ULTIMATE SYARIAH PEGAWAI', '4801:PINJAMAN MODAL PRODUKTIF']"
   ]
  },
  {
   "cell_type": "code",
   "execution_count": 110,
   "id": "35b77ff1",
   "metadata": {},
   "outputs": [],
   "source": [
    "df_gadai = df_surabaya.loc[df_surabaya['SUB_PRODUK'].isin(list_gadai)]\n",
    "df_gadai.to_excel('D:/data base/mikro/kanwil gadai.xlsx')"
   ]
  },
  {
   "cell_type": "code",
   "execution_count": 111,
   "id": "cbc52598",
   "metadata": {},
   "outputs": [],
   "source": [
    "df_non_gadai = df_surabaya.loc[~df_surabaya['SUB_PRODUK'].isin(list_gadai)]\n",
    "df_non_gadai.to_excel('D:/data base/mikro/kanwil non gadai.xlsx')"
   ]
  },
  {
   "cell_type": "code",
   "execution_count": 112,
   "id": "c69b4b02",
   "metadata": {},
   "outputs": [],
   "source": [
    "df_surabaya2 = df_non_gadai[df_non_gadai.AREA == 'AREA SURABAYA 2']"
   ]
  },
  {
   "cell_type": "code",
   "execution_count": 113,
   "id": "40d0268f",
   "metadata": {},
   "outputs": [],
   "source": [
    "cabang = pd.read_excel('D:/data base/CABANG.xlsx')"
   ]
  },
  {
   "cell_type": "code",
   "execution_count": 114,
   "id": "d6f5458d",
   "metadata": {},
   "outputs": [],
   "source": [
    "df_surabaya2_kode = df_surabaya2"
   ]
  },
  {
   "cell_type": "code",
   "execution_count": 115,
   "id": "2492c5a6",
   "metadata": {},
   "outputs": [
    {
     "name": "stderr",
     "output_type": "stream",
     "text": [
      "C:\\Users\\amuba\\AppData\\Local\\Temp\\ipykernel_19820\\2307402848.py:3: SettingWithCopyWarning: \n",
      "A value is trying to be set on a copy of a slice from a DataFrame.\n",
      "Try using .loc[row_indexer,col_indexer] = value instead\n",
      "\n",
      "See the caveats in the documentation: https://pandas.pydata.org/pandas-docs/stable/user_guide/indexing.html#returning-a-view-versus-a-copy\n",
      "  df_surabaya2_kode.loc[index, 'KODE'] = df_surabaya2.loc[index, 'NO_KONTRAK'].astype(str)\n"
     ]
    }
   ],
   "source": [
    "for index, row in df_surabaya2.iterrows():\n",
    "    if df_surabaya2.loc[index, 'OUTLET_CHANNELING']== ':':\n",
    "        df_surabaya2_kode.loc[index, 'KODE'] = df_surabaya2.loc[index, 'NO_KONTRAK'].astype(str)\n",
    "    else:\n",
    "        df_surabaya2_kode.loc[index, 'KODE'] = df_surabaya2.loc[index, 'OUTLET_CHANNELING']"
   ]
  },
  {
   "cell_type": "code",
   "execution_count": 116,
   "id": "f510eb24",
   "metadata": {},
   "outputs": [],
   "source": [
    "for index, row in df_surabaya2.iterrows():\n",
    "    df_surabaya2_kode.loc[index, 'KODE'] = df_surabaya2.loc[index, 'KODE'][:5]"
   ]
  },
  {
   "cell_type": "code",
   "execution_count": 117,
   "id": "71dec57f",
   "metadata": {},
   "outputs": [
    {
     "name": "stderr",
     "output_type": "stream",
     "text": [
      "C:\\Users\\amuba\\AppData\\Local\\Temp\\ipykernel_19820\\3341987037.py:1: SettingWithCopyWarning: \n",
      "A value is trying to be set on a copy of a slice from a DataFrame.\n",
      "Try using .loc[row_indexer,col_indexer] = value instead\n",
      "\n",
      "See the caveats in the documentation: https://pandas.pydata.org/pandas-docs/stable/user_guide/indexing.html#returning-a-view-versus-a-copy\n",
      "  df_surabaya2_kode.KODE = df_surabaya2_kode.KODE.astype(str)\n"
     ]
    }
   ],
   "source": [
    "df_surabaya2_kode.KODE = df_surabaya2_kode.KODE.astype(str)\n",
    "cabang.KODE = cabang.KODE.astype(str)"
   ]
  },
  {
   "cell_type": "code",
   "execution_count": 118,
   "id": "1a9c8cdb",
   "metadata": {},
   "outputs": [],
   "source": [
    "df_surabaya2_kode = df_surabaya2_kode.merge(cabang, on='KODE')"
   ]
  },
  {
   "cell_type": "code",
   "execution_count": 119,
   "id": "ae03e4bc",
   "metadata": {},
   "outputs": [],
   "source": [
    "# df_surabaya2_kode.to_excel('D:/data base/mikro/surabaya2 cabang.xlsx')"
   ]
  },
  {
   "cell_type": "code",
   "execution_count": 120,
   "id": "83075d4b",
   "metadata": {},
   "outputs": [],
   "source": [
    "df_surabaya2_bermasalah = df_surabaya2_kode[df_surabaya2_kode.STATUS_REK == 'KREDIT_MASALAH']"
   ]
  },
  {
   "cell_type": "code",
   "execution_count": 121,
   "id": "453d3904",
   "metadata": {},
   "outputs": [],
   "source": [
    "df_surabaya2_aktif = df_surabaya2_kode[df_surabaya2_kode.STATUS_REK == 'KREDIT_AKTIF']"
   ]
  },
  {
   "cell_type": "code",
   "execution_count": 122,
   "id": "41ef598f",
   "metadata": {},
   "outputs": [],
   "source": [
    "with pd.ExcelWriter(\"D:/data base/mikro/surabaya2 cabang.xlsx\") as writer:\n",
    "    df_surabaya2_kode.to_excel(writer, sheet_name='surabaya 2', index=False)\n",
    "    df_surabaya2_bermasalah.to_excel(writer, sheet_name='CUT OFF', index=False)\n",
    "#     df_surabaya2_aktif.to_excel(writer, sheet_name='aktif', index=False)\n",
    "    "
   ]
  },
  {
   "cell_type": "code",
   "execution_count": 123,
   "id": "c20cb014",
   "metadata": {},
   "outputs": [],
   "source": [
    "aktif_bermasalah = pd.read_excel('D:/data base/MENINGGAL DAN SUSAH DITAGIH.xlsx')"
   ]
  },
  {
   "cell_type": "code",
   "execution_count": 124,
   "id": "1336b1be",
   "metadata": {},
   "outputs": [],
   "source": [
    "kontrak_bermasalah = aktif_bermasalah['NO_KONTRAK'].to_list()"
   ]
  },
  {
   "cell_type": "code",
   "execution_count": 125,
   "id": "226bb4d6",
   "metadata": {},
   "outputs": [],
   "source": [
    "aktif_2 = df_surabaya2_aktif.loc[~df_surabaya2_aktif['NO_KONTRAK'].isin(kontrak_bermasalah)]\n",
    "aktif_bermasalah = df_surabaya2_aktif.loc[df_surabaya2_aktif['NO_KONTRAK'].isin(kontrak_bermasalah)]"
   ]
  },
  {
   "cell_type": "code",
   "execution_count": 126,
   "id": "ed2839bb",
   "metadata": {},
   "outputs": [],
   "source": [
    "with pd.ExcelWriter('D:/data base/mikro/surabaya2 cabang.xlsx', engine='openpyxl', mode='a') as writer:\n",
    "#     aktif_2.to_excel(writer, sheet_name='aktif2', index=False)\n",
    "    aktif_bermasalah.to_excel(writer, sheet_name='MENINGGAL DAN SUSAH DITAGIH', index=False)"
   ]
  },
  {
   "cell_type": "code",
   "execution_count": 127,
   "id": "14ac2d04",
   "metadata": {},
   "outputs": [],
   "source": [
    "bpo_collection = pd.read_excel('D:/data base/TAGIHAN BPO COLECTION.xlsx')"
   ]
  },
  {
   "cell_type": "code",
   "execution_count": 128,
   "id": "351ee52d",
   "metadata": {},
   "outputs": [],
   "source": [
    "df_surabaya2_aktif_bpo = aktif_2.merge(bpo_collection, on='NO_KONTRAK')"
   ]
  },
  {
   "cell_type": "code",
   "execution_count": 129,
   "id": "09e9b4a8",
   "metadata": {},
   "outputs": [],
   "source": [
    "with pd.ExcelWriter('D:/data base/mikro/surabaya2 cabang.xlsx', engine='openpyxl', mode='a') as writer:\n",
    "    df_surabaya2_aktif_bpo.to_excel(writer, sheet_name='BPO COLLECTION', index=False)"
   ]
  },
  {
   "cell_type": "code",
   "execution_count": 130,
   "id": "24d05926",
   "metadata": {},
   "outputs": [],
   "source": [
    "kontrak_BPO = df_surabaya2_aktif_bpo['NO_KONTRAK'].tolist()"
   ]
  },
  {
   "cell_type": "code",
   "execution_count": 131,
   "id": "a2a0d055",
   "metadata": {},
   "outputs": [],
   "source": [
    "aktif_3 = aktif_2.loc[~aktif_2['NO_KONTRAK'].isin(kontrak_BPO)]"
   ]
  },
  {
   "cell_type": "code",
   "execution_count": 132,
   "id": "c2e6db35",
   "metadata": {},
   "outputs": [],
   "source": [
    "with pd.ExcelWriter('D:/data base/mikro/surabaya2 cabang.xlsx', engine='openpyxl', mode='a') as writer:\n",
    "    aktif_3.to_excel(writer, sheet_name='UBM DAN BPO MIKRO', index=False)"
   ]
  },
  {
   "cell_type": "code",
   "execution_count": 133,
   "id": "14c83d08",
   "metadata": {},
   "outputs": [],
   "source": [
    "df_potensial_topup = df_surabaya2_kode.loc[(pd.isnull(df_surabaya2_kode['FLAG_RESTRUK'])) | (df_surabaya2_kode['FLAG_LEPAS_RESTRUK'] == 'LEPAS RESTRUK')]\n",
    "df_potensial_topup = df_potensial_topup.loc[ (df_potensial_topup['KOLEKTIBILITAS'] == 1) & (df_potensial_topup['OSL']/df_surabaya2_kode['UP'] <= 0.6)]"
   ]
  },
  {
   "cell_type": "code",
   "execution_count": null,
   "id": "9e349b50",
   "metadata": {},
   "outputs": [],
   "source": []
  },
  {
   "cell_type": "code",
   "execution_count": 134,
   "id": "510f9bd0",
   "metadata": {},
   "outputs": [],
   "source": [
    "with pd.ExcelWriter('D:/data base/mikro/surabaya2 cabang.xlsx', engine='openpyxl', mode='a') as writer:\n",
    "    df_potensial_topup.to_excel(writer, sheet_name='POTENSI TOP UP', index=False)"
   ]
  },
  {
   "cell_type": "code",
   "execution_count": 135,
   "id": "659f26ba",
   "metadata": {},
   "outputs": [],
   "source": [
    "df_omset = df_surabaya2_kode.loc[df_surabaya2_kode.FLAG_RESTRUK != 'RESTRUK']"
   ]
  },
  {
   "cell_type": "code",
   "execution_count": 136,
   "id": "cbe0a833",
   "metadata": {},
   "outputs": [
    {
     "name": "stderr",
     "output_type": "stream",
     "text": [
      "C:\\Users\\amuba\\AppData\\Local\\Temp\\ipykernel_19820\\1342160210.py:5: SettingWithCopyWarning: \n",
      "A value is trying to be set on a copy of a slice from a DataFrame.\n",
      "Try using .loc[row_indexer,col_indexer] = value instead\n",
      "\n",
      "See the caveats in the documentation: https://pandas.pydata.org/pandas-docs/stable/user_guide/indexing.html#returning-a-view-versus-a-copy\n",
      "  df_omset.loc[index, 'OMSET'] = \"-\"\n"
     ]
    }
   ],
   "source": [
    "for index, row in df_omset.iterrows():\n",
    "    if df_omset.loc[index, 'TGL_DATA'][:8] == df_omset.loc[index, 'TGL_KREDIT'][:8]:\n",
    "        df_omset.loc[index, 'OMSET'] = df_omset.loc[index, 'UP']\n",
    "    else:\n",
    "        df_omset.loc[index, 'OMSET'] = \"-\""
   ]
  },
  {
   "cell_type": "code",
   "execution_count": 137,
   "id": "e037405f",
   "metadata": {},
   "outputs": [],
   "source": [
    "df_omset = df_omset.loc[df_omset['OMSET'] != \"-\"]"
   ]
  },
  {
   "cell_type": "code",
   "execution_count": 138,
   "id": "db93ca7b",
   "metadata": {},
   "outputs": [],
   "source": [
    "with pd.ExcelWriter('D:/data base/mikro/surabaya2 cabang.xlsx', engine='openpyxl', mode='a') as writer:\n",
    "    df_omset.to_excel(writer, sheet_name='OMSET MIKRO', index=False)"
   ]
  },
  {
   "cell_type": "code",
   "execution_count": 139,
   "id": "b0906371",
   "metadata": {},
   "outputs": [],
   "source": [
    "df_all = pd.read_excel('D:/data base/mikro/surabaya2 cabang.xlsx', sheet_name='surabaya 2')\n",
    "df_all['ALAMAT'] = df_all['JALAN'] + ' RT: '+ df_all['RT'].astype(str) + ' RW: ' + df_all['RW'].astype(str) + ' DESA: ' + df_all['KELURAHAN']\n",
    "\n",
    "for index, row in df_all.iterrows():\n",
    "    df_all.loc[index, 'SUB_PRODUK'] = df_all.loc[index, 'SUB_PRODUK'][5:]\n",
    "    \n",
    "df_all = df_all.reindex(columns=['TGL_DATA', 'CIF', 'NO_KONTRAK',  'PRODUK', 'CUSTOMER_NM', 'ALAMAT', 'SUB_PRODUK',\n",
    "       'JALAN', 'RT', 'RW', 'KELURAHAN', 'KECAMATAN', 'KABUPATEN', 'PROPINSI',\n",
    "       'TELP', 'HP', 'TGL_KREDIT', 'TENOR', 'TGL_JATUH_TEMPO',\n",
    "       'KOLEKTIBILITAS', 'HARI_TUNGGAKAN', 'UP', 'ANGSURAN', 'OSL',\n",
    "       'SALDO_REK_TITIPAN', 'REK_TITIPAN', 'SISA_POKOK', 'TUNGGAKAN_POKOK',\n",
    "       'TUNGGAKAN_SM', 'TUNGGAKAN_DENDA', 'OUTLET_x', 'OUTLET_CHANNELING',\n",
    "       'CABANG_x', 'AREA', 'KANWIL', 'CBM_x', 'UBM_x', 'CBM_CHANNELING',\n",
    "       'UBM_CHANNELING', 'JENIS_USAHA', 'SEKTOR_USAHA', 'SEKTOR_EKONOMI',\n",
    "       'STATUS_REK', 'FLAG_RESTRUK', 'FLAG_LEPAS_RESTRUK', 'KETERANGAN',\n",
    "       'STATUS_KLAIM_ASURANSI', 'STATUS_BARANG_JAMINAN', 'TGL_CUT_OFF',\n",
    "       'TGL_JUAL', 'HARGA_JUAL', 'TGL_TARIK', 'TUJUAN_PEMBIAYAAN', 'KODE',\n",
    "       'NO', 'OUTLET_y', 'CABANG_y', 'UBM_y', 'CBM_y'])\n",
    "\n",
    "df_all = df_all.drop(['PRODUK', 'JALAN', 'RT', 'RW', 'KELURAHAN', 'REK_TITIPAN', 'OUTLET_x', 'OUTLET_CHANNELING', 'CABANG_x', 'AREA', 'KANWIL', 'CBM_x', 'UBM_x', 'CBM_CHANNELING', 'UBM_CHANNELING', 'JENIS_USAHA', 'SEKTOR_USAHA', 'SEKTOR_EKONOMI', 'STATUS_BARANG_JAMINAN', 'TGL_CUT_OFF', 'TGL_JUAL', 'HARGA_JUAL', 'TGL_TARIK', 'TUJUAN_PEMBIAYAAN', 'KODE', 'NO'], axis=1)\n",
    "\n",
    "df_all.to_csv('D:/data base/mikro/ALL.csv', index=False)"
   ]
  },
  {
   "cell_type": "code",
   "execution_count": 140,
   "id": "5f9e8c7f",
   "metadata": {},
   "outputs": [],
   "source": [
    "df_CUTOFF = pd.read_excel('D:/data base/mikro/surabaya2 cabang.xlsx', sheet_name='CUT OFF')\n",
    "df_CUTOFF['ALAMAT'] = df_CUTOFF['JALAN'] + ' RT: '+ df_CUTOFF['RT'].astype(str) + ' RW: ' + df_CUTOFF['RW'].astype(str) + ' DESA: ' + df_CUTOFF['KELURAHAN']\n",
    "\n",
    "for index, row in df_CUTOFF.iterrows():\n",
    "    df_CUTOFF.loc[index, 'SUB_PRODUK'] = df_CUTOFF.loc[index, 'SUB_PRODUK'][5:]\n",
    "    \n",
    "df_CUTOFF = df_CUTOFF.reindex(columns=['TGL_DATA', 'CIF', 'NO_KONTRAK',  'PRODUK', 'CUSTOMER_NM', 'ALAMAT', 'SUB_PRODUK',\n",
    "       'JALAN', 'RT', 'RW', 'KELURAHAN', 'KECAMATAN', 'KABUPATEN', 'PROPINSI',\n",
    "       'TELP', 'HP', 'TGL_KREDIT', 'TENOR', 'TGL_JATUH_TEMPO',\n",
    "       'KOLEKTIBILITAS', 'HARI_TUNGGAKAN', 'UP', 'ANGSURAN', 'OSL',\n",
    "       'SALDO_REK_TITIPAN', 'REK_TITIPAN', 'SISA_POKOK', 'TUNGGAKAN_POKOK',\n",
    "       'TUNGGAKAN_SM', 'TUNGGAKAN_DENDA', 'OUTLET_x', 'OUTLET_CHANNELING',\n",
    "       'CABANG_x', 'AREA', 'KANWIL', 'CBM_x', 'UBM_x', 'CBM_CHANNELING',\n",
    "       'UBM_CHANNELING', 'JENIS_USAHA', 'SEKTOR_USAHA', 'SEKTOR_EKONOMI',\n",
    "       'STATUS_REK', 'FLAG_RESTRUK', 'FLAG_LEPAS_RESTRUK', 'KETERANGAN',\n",
    "       'STATUS_KLAIM_ASURANSI', 'STATUS_BARANG_JAMINAN', 'TGL_CUT_OFF',\n",
    "       'TGL_JUAL', 'HARGA_JUAL', 'TGL_TARIK', 'TUJUAN_PEMBIAYAAN', 'KODE',\n",
    "       'NO', 'OUTLET_y', 'CABANG_y', 'UBM_y', 'CBM_y'])\n",
    "\n",
    "df_CUTOFF = df_CUTOFF.drop(['PRODUK', 'JALAN', 'RT', 'RW', 'KELURAHAN', 'REK_TITIPAN', 'OUTLET_x', 'OUTLET_CHANNELING', 'CABANG_x', 'AREA', 'KANWIL', 'CBM_x', 'UBM_x', 'CBM_CHANNELING', 'UBM_CHANNELING', 'JENIS_USAHA', 'SEKTOR_USAHA', 'SEKTOR_EKONOMI', 'STATUS_BARANG_JAMINAN', 'TGL_CUT_OFF', 'TGL_JUAL', 'HARGA_JUAL', 'TGL_TARIK', 'TUJUAN_PEMBIAYAAN', 'KODE', 'NO'], axis=1)\n",
    "\n",
    "df_CUTOFF.to_csv('D:/data base/mikro/CUT OFF.csv', index=False)"
   ]
  },
  {
   "cell_type": "code",
   "execution_count": 141,
   "id": "5c85c391",
   "metadata": {},
   "outputs": [],
   "source": [
    "df_MASALAH = pd.read_excel('D:/data base/mikro/surabaya2 cabang.xlsx', sheet_name='MENINGGAL DAN SUSAH DITAGIH')\n",
    "df_MASALAH['ALAMAT'] = df_MASALAH['JALAN'] + ' RT: '+ df_MASALAH['RT'].astype(str) + ' RW: ' + df_MASALAH['RW'].astype(str) + ' DESA: ' + df_MASALAH['KELURAHAN']\n",
    "\n",
    "for index, row in df_MASALAH.iterrows():\n",
    "    df_MASALAH.loc[index, 'SUB_PRODUK'] = df_MASALAH.loc[index, 'SUB_PRODUK'][5:]\n",
    "    \n",
    "df_MASALAH = df_MASALAH.reindex(columns=['TGL_DATA', 'CIF', 'NO_KONTRAK',  'PRODUK', 'CUSTOMER_NM', 'ALAMAT', 'SUB_PRODUK',\n",
    "       'JALAN', 'RT', 'RW', 'KELURAHAN', 'KECAMATAN', 'KABUPATEN', 'PROPINSI',\n",
    "       'TELP', 'HP', 'TGL_KREDIT', 'TENOR', 'TGL_JATUH_TEMPO',\n",
    "       'KOLEKTIBILITAS', 'HARI_TUNGGAKAN', 'UP', 'ANGSURAN', 'OSL',\n",
    "       'SALDO_REK_TITIPAN', 'REK_TITIPAN', 'SISA_POKOK', 'TUNGGAKAN_POKOK',\n",
    "       'TUNGGAKAN_SM', 'TUNGGAKAN_DENDA', 'OUTLET_x', 'OUTLET_CHANNELING',\n",
    "       'CABANG_x', 'AREA', 'KANWIL', 'CBM_x', 'UBM_x', 'CBM_CHANNELING',\n",
    "       'UBM_CHANNELING', 'JENIS_USAHA', 'SEKTOR_USAHA', 'SEKTOR_EKONOMI',\n",
    "       'STATUS_REK', 'FLAG_RESTRUK', 'FLAG_LEPAS_RESTRUK', 'KETERANGAN',\n",
    "       'STATUS_KLAIM_ASURANSI', 'STATUS_BARANG_JAMINAN', 'TGL_CUT_OFF',\n",
    "       'TGL_JUAL', 'HARGA_JUAL', 'TGL_TARIK', 'TUJUAN_PEMBIAYAAN', 'KODE',\n",
    "       'NO', 'OUTLET_y', 'CABANG_y', 'UBM_y', 'CBM_y'])\n",
    "\n",
    "df_MASALAH = df_MASALAH.drop(['PRODUK', 'JALAN', 'RT', 'RW', 'KELURAHAN', 'REK_TITIPAN', 'OUTLET_x', 'OUTLET_CHANNELING', 'CABANG_x', 'AREA', 'KANWIL', 'CBM_x', 'UBM_x', 'CBM_CHANNELING', 'UBM_CHANNELING', 'JENIS_USAHA', 'SEKTOR_USAHA', 'SEKTOR_EKONOMI', 'STATUS_BARANG_JAMINAN', 'TGL_CUT_OFF', 'TGL_JUAL', 'HARGA_JUAL', 'TGL_TARIK', 'TUJUAN_PEMBIAYAAN', 'KODE', 'NO'], axis=1)\n",
    "\n",
    "df_MASALAH.to_csv('D:/data base/mikro/BERMASALAH.csv', index=False)"
   ]
  },
  {
   "cell_type": "code",
   "execution_count": 142,
   "id": "1b6034a7",
   "metadata": {},
   "outputs": [],
   "source": [
    "df_BPO_C = pd.read_excel('D:/data base/mikro/surabaya2 cabang.xlsx', sheet_name='BPO COLLECTION')\n",
    "df_BPO_C['ALAMAT'] = df_BPO_C['JALAN'] + ' RT: '+ df_BPO_C['RT'].astype(str) + ' RW: ' + df_BPO_C['RW'].astype(str) + ' DESA: ' + df_BPO_C['KELURAHAN']\n",
    "\n",
    "for index, row in df_BPO_C.iterrows():\n",
    "    df_BPO_C.loc[index, 'SUB_PRODUK'] = df_BPO_C.loc[index, 'SUB_PRODUK'][5:]\n",
    "    \n",
    "df_BPO_C = df_BPO_C.reindex(columns=['TGL_DATA', 'CIF', 'NO_KONTRAK',  'PRODUK', 'CUSTOMER_NM', 'ALAMAT', 'SUB_PRODUK',\n",
    "       'JALAN', 'RT', 'RW', 'KELURAHAN', 'KECAMATAN', 'KABUPATEN', 'PROPINSI',\n",
    "       'TELP', 'HP', 'TGL_KREDIT', 'TENOR', 'TGL_JATUH_TEMPO',\n",
    "       'KOLEKTIBILITAS', 'HARI_TUNGGAKAN', 'UP', 'ANGSURAN', 'OSL',\n",
    "       'SALDO_REK_TITIPAN', 'REK_TITIPAN', 'SISA_POKOK', 'TUNGGAKAN_POKOK',\n",
    "       'TUNGGAKAN_SM', 'TUNGGAKAN_DENDA', 'OUTLET_x', 'OUTLET_CHANNELING',\n",
    "       'CABANG_x', 'AREA', 'KANWIL', 'CBM_x', 'UBM_x', 'CBM_CHANNELING',\n",
    "       'UBM_CHANNELING', 'JENIS_USAHA', 'SEKTOR_USAHA', 'SEKTOR_EKONOMI',\n",
    "       'STATUS_REK', 'FLAG_RESTRUK', 'FLAG_LEPAS_RESTRUK', 'KETERANGAN',\n",
    "       'STATUS_KLAIM_ASURANSI', 'STATUS_BARANG_JAMINAN', 'TGL_CUT_OFF',\n",
    "       'TGL_JUAL', 'HARGA_JUAL', 'TGL_TARIK', 'TUJUAN_PEMBIAYAAN', 'KODE',\n",
    "       'NO', 'OUTLET_y', 'CABANG_y', 'UBM_y', 'CBM_y'])\n",
    "\n",
    "df_BPO_C = df_BPO_C.drop(['PRODUK', 'JALAN', 'RT', 'RW', 'KELURAHAN', 'REK_TITIPAN', 'OUTLET_x', 'OUTLET_CHANNELING', 'CABANG_x', 'AREA', 'KANWIL', 'CBM_x', 'UBM_x', 'CBM_CHANNELING', 'UBM_CHANNELING', 'JENIS_USAHA', 'SEKTOR_USAHA', 'SEKTOR_EKONOMI', 'STATUS_BARANG_JAMINAN', 'TGL_CUT_OFF', 'TGL_JUAL', 'HARGA_JUAL', 'TGL_TARIK', 'TUJUAN_PEMBIAYAAN', 'KODE', 'NO'], axis=1)\n",
    "\n",
    "df_BPO_C.to_csv('D:/data base/mikro/BPO COLLECTION.csv', index=False)"
   ]
  },
  {
   "cell_type": "code",
   "execution_count": 143,
   "id": "1ca63aed",
   "metadata": {},
   "outputs": [],
   "source": [
    "df_BPO_C = pd.read_excel('D:/data base/mikro/surabaya2 cabang.xlsx', sheet_name='BPO COLLECTION')\n",
    "df_BPO_C['ALAMAT'] = df_BPO_C['JALAN'] + ' RT: '+ df_BPO_C['RT'].astype(str) + ' RW: ' + df_BPO_C['RW'].astype(str) + ' DESA: ' + df_BPO_C['KELURAHAN']\n",
    "\n",
    "for index, row in df_BPO_C.iterrows():\n",
    "    df_BPO_C.loc[index, 'SUB_PRODUK'] = df_BPO_C.loc[index, 'SUB_PRODUK'][5:]\n",
    "    \n",
    "df_BPO_C = df_BPO_C.reindex(columns=['TGL_DATA', 'CIF', 'NO_KONTRAK',  'PRODUK', 'CUSTOMER_NM', 'ALAMAT', 'SUB_PRODUK',\n",
    "       'JALAN', 'RT', 'RW', 'KELURAHAN', 'KECAMATAN', 'KABUPATEN', 'PROPINSI',\n",
    "       'TELP', 'HP', 'TGL_KREDIT', 'TENOR', 'TGL_JATUH_TEMPO',\n",
    "       'KOLEKTIBILITAS', 'HARI_TUNGGAKAN', 'UP', 'ANGSURAN', 'OSL',\n",
    "       'SALDO_REK_TITIPAN', 'REK_TITIPAN', 'SISA_POKOK', 'TUNGGAKAN_POKOK',\n",
    "       'TUNGGAKAN_SM', 'TUNGGAKAN_DENDA', 'OUTLET_x', 'OUTLET_CHANNELING',\n",
    "       'CABANG_x', 'AREA', 'KANWIL', 'CBM_x', 'UBM_x', 'CBM_CHANNELING',\n",
    "       'UBM_CHANNELING', 'JENIS_USAHA', 'SEKTOR_USAHA', 'SEKTOR_EKONOMI',\n",
    "       'STATUS_REK', 'FLAG_RESTRUK', 'FLAG_LEPAS_RESTRUK', 'KETERANGAN',\n",
    "       'STATUS_KLAIM_ASURANSI', 'STATUS_BARANG_JAMINAN', 'TGL_CUT_OFF',\n",
    "       'TGL_JUAL', 'HARGA_JUAL', 'TGL_TARIK', 'TUJUAN_PEMBIAYAAN', 'KODE',\n",
    "       'NO', 'OUTLET_y', 'CABANG_y', 'UBM_y', 'CBM_y', 'BPO', 'KOL AWAL', 'HR TGKN AWL', 'OSL AWL'])\n",
    "\n",
    "df_BPO_C = df_BPO_C.drop(['PRODUK', 'JALAN', 'RT', 'RW', 'KELURAHAN', 'REK_TITIPAN', 'OUTLET_x', 'OUTLET_CHANNELING', 'CABANG_x', 'AREA', 'KANWIL', 'CBM_x', 'UBM_x', 'CBM_CHANNELING', 'UBM_CHANNELING', 'JENIS_USAHA', 'SEKTOR_USAHA', 'SEKTOR_EKONOMI', 'STATUS_BARANG_JAMINAN', 'TGL_CUT_OFF', 'TGL_JUAL', 'HARGA_JUAL', 'TGL_TARIK', 'TUJUAN_PEMBIAYAAN', 'KODE', 'NO'], axis=1)\n",
    "\n",
    "df_BPO_C.to_csv('D:/data base/mikro/BPO COLLECTION.csv', index=False)"
   ]
  },
  {
   "cell_type": "code",
   "execution_count": 144,
   "id": "ab3f2cfe",
   "metadata": {},
   "outputs": [],
   "source": [
    "df_UBM_dan_BPO_MIKRO = pd.read_excel('D:/data base/mikro/surabaya2 cabang.xlsx', sheet_name='UBM DAN BPO MIKRO')\n",
    "df_UBM_dan_BPO_MIKRO['ALAMAT'] = df_UBM_dan_BPO_MIKRO['JALAN'] + ' RT: '+ df_UBM_dan_BPO_MIKRO['RT'].astype(str) + ' RW: ' + df_UBM_dan_BPO_MIKRO['RW'].astype(str) + ' DESA: ' + df_UBM_dan_BPO_MIKRO['KELURAHAN']\n",
    "\n",
    "for index, row in df_UBM_dan_BPO_MIKRO.iterrows():\n",
    "    df_UBM_dan_BPO_MIKRO.loc[index, 'SUB_PRODUK'] = df_UBM_dan_BPO_MIKRO.loc[index, 'SUB_PRODUK'][5:]\n",
    "    \n",
    "df_UBM_dan_BPO_MIKRO = df_UBM_dan_BPO_MIKRO.reindex(columns=['TGL_DATA', 'CIF', 'NO_KONTRAK',  'PRODUK', 'CUSTOMER_NM', 'ALAMAT', 'SUB_PRODUK',\n",
    "       'JALAN', 'RT', 'RW', 'KELURAHAN', 'KECAMATAN', 'KABUPATEN', 'PROPINSI',\n",
    "       'TELP', 'HP', 'TGL_KREDIT', 'TENOR', 'TGL_JATUH_TEMPO',\n",
    "       'KOLEKTIBILITAS', 'HARI_TUNGGAKAN', 'UP', 'ANGSURAN', 'OSL',\n",
    "       'SALDO_REK_TITIPAN', 'REK_TITIPAN', 'SISA_POKOK', 'TUNGGAKAN_POKOK',\n",
    "       'TUNGGAKAN_SM', 'TUNGGAKAN_DENDA', 'OUTLET_x', 'OUTLET_CHANNELING',\n",
    "       'CABANG_x', 'AREA', 'KANWIL', 'CBM_x', 'UBM_x', 'CBM_CHANNELING',\n",
    "       'UBM_CHANNELING', 'JENIS_USAHA', 'SEKTOR_USAHA', 'SEKTOR_EKONOMI',\n",
    "       'STATUS_REK', 'FLAG_RESTRUK', 'FLAG_LEPAS_RESTRUK', 'KETERANGAN',\n",
    "       'STATUS_KLAIM_ASURANSI', 'STATUS_BARANG_JAMINAN', 'TGL_CUT_OFF',\n",
    "       'TGL_JUAL', 'HARGA_JUAL', 'TGL_TARIK', 'TUJUAN_PEMBIAYAAN', 'KODE',\n",
    "       'NO', 'OUTLET_y', 'CABANG_y', 'UBM_y', 'CBM_y'])\n",
    "\n",
    "df_UBM_dan_BPO_MIKRO = df_UBM_dan_BPO_MIKRO.drop(['PRODUK', 'JALAN', 'RT', 'RW', 'KELURAHAN', 'REK_TITIPAN', 'OUTLET_x', 'OUTLET_CHANNELING', 'CABANG_x', 'AREA', 'KANWIL', 'CBM_x', 'UBM_x', 'CBM_CHANNELING', 'UBM_CHANNELING', 'JENIS_USAHA', 'SEKTOR_USAHA', 'SEKTOR_EKONOMI', 'STATUS_BARANG_JAMINAN', 'TGL_CUT_OFF', 'TGL_JUAL', 'HARGA_JUAL', 'TGL_TARIK', 'TUJUAN_PEMBIAYAAN', 'KODE', 'NO'], axis=1)\n",
    "\n",
    "df_UBM_dan_BPO_MIKRO.to_csv('D:/data base/mikro/UBM DAN BPO MIKRO.csv', index=False)"
   ]
  },
  {
   "cell_type": "code",
   "execution_count": null,
   "id": "0657049a",
   "metadata": {},
   "outputs": [],
   "source": []
  }
 ],
 "metadata": {
  "kernelspec": {
   "display_name": "Python 3 (ipykernel)",
   "language": "python",
   "name": "python3"
  },
  "language_info": {
   "codemirror_mode": {
    "name": "ipython",
    "version": 3
   },
   "file_extension": ".py",
   "mimetype": "text/x-python",
   "name": "python",
   "nbconvert_exporter": "python",
   "pygments_lexer": "ipython3",
   "version": "3.8.10"
  }
 },
 "nbformat": 4,
 "nbformat_minor": 5
}
